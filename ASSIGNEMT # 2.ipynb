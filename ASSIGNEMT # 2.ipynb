{
 "cells": [
  {
   "cell_type": "code",
   "execution_count": 2,
   "metadata": {},
   "outputs": [
    {
     "name": "stdout",
     "output_type": "stream",
     "text": [
      "Enter marks scored in Urdu: 78\n",
      "Enter marks scored in English: 96\n",
      "Enter marks scored in Maths: 99\n",
      "Enter marks scored in Islamiat: 95\n",
      "Enter marks scored in Computer: 79\n",
      "Grade: A-1\n"
     ]
    }
   ],
   "source": [
    "urdu=int(input(\"Enter marks scored in Urdu: \"))\n",
    "english=int(input(\"Enter marks scored in English: \"))\n",
    "maths=int(input(\"Enter marks scored in Maths: \"))\n",
    "islamiat=int(input(\"Enter marks scored in Islamiat: \"))\n",
    "computer=int(input(\"Enter marks scored in Computer: \"))\n",
    "avg=(urdu+english+maths+islamiat+computer)/5\n",
    "if(avg>=80):\n",
    "    print(\"Grade: A-1\")\n",
    "elif(avg<80):\n",
    "    print(\"Grade: A\")\n",
    "elif(avg<70):\n",
    "    print(\"Grade: B\")\n",
    "elif(avg<60):\n",
    "    print(\"Grade: C\")\n",
    "else:\n",
    "    print(\"Grade: F\")"
   ]
  },
  {
   "cell_type": "code",
   "execution_count": 3,
   "metadata": {},
   "outputs": [
    {
     "name": "stdout",
     "output_type": "stream",
     "text": [
      "Enter a number: 6\n",
      "This is an even number.\n"
     ]
    }
   ],
   "source": [
    "num = int(input(\"Enter a number: \"))\n",
    "mod = num % 2\n",
    "if mod > 0:\n",
    "    print(\"This is an odd number.\")\n",
    "else:\n",
    "    print(\"This is an even number.\")"
   ]
  },
  {
   "cell_type": "code",
   "execution_count": 4,
   "metadata": {},
   "outputs": [
    {
     "name": "stdout",
     "output_type": "stream",
     "text": [
      "The length of list is:  3\n"
     ]
    }
   ],
   "source": [
    "n = len([10, 20, 30]) \n",
    "print(\"The length of list is: \", n) "
   ]
  },
  {
   "cell_type": "code",
   "execution_count": 5,
   "metadata": {},
   "outputs": [
    {
     "name": "stdout",
     "output_type": "stream",
     "text": [
      "How many numbers: 5\n",
      "Enter number 56\n",
      "Enter number 67\n",
      "Enter number 67\n",
      "Enter number 56\n",
      "Enter number 90\n",
      "Sum of elements in given list is : 336\n"
     ]
    }
   ],
   "source": [
    "lst = []\n",
    "num = int(input('How many numbers: '))\n",
    "for n in range(num):\n",
    "    numbers = int(input('Enter number '))\n",
    "    lst.append(numbers)\n",
    "print(\"Sum of elements in given list is :\", sum(lst))"
   ]
  },
  {
   "cell_type": "code",
   "execution_count": 7,
   "metadata": {},
   "outputs": [
    {
     "name": "stdout",
     "output_type": "stream",
     "text": [
      "How many numbers: 5\n",
      "Enter number 34\n",
      "Enter number 78\n",
      "Enter number 87\n",
      "Enter number 67\n",
      "Enter number 56\n",
      "Maximum element in the list is : 87\n"
     ]
    }
   ],
   "source": [
    "lst = []\n",
    "num = int(input('How many numbers: '))\n",
    "for n in range(num):\n",
    "    numbers = int(input('Enter number '))\n",
    "    lst.append(numbers)\n",
    "print(\"Maximum element in the list is :\", max(lst))"
   ]
  },
  {
   "cell_type": "code",
   "execution_count": 18,
   "metadata": {},
   "outputs": [
    {
     "name": "stdout",
     "output_type": "stream",
     "text": [
      "[5, 4, 3, 2]\n"
     ]
    }
   ],
   "source": [
    "a = [5,11,12,13,4,80,3,2,33,25,19]\n",
    "num = 5\n",
    "new_list = []\n",
    "for i in a:\n",
    "  if i<=num:\n",
    "    new_list.append(i)\n",
    "print (new_list)"
   ]
  },
  {
   "cell_type": "code",
   "execution_count": null,
   "metadata": {},
   "outputs": [],
   "source": []
  },
  {
   "cell_type": "code",
   "execution_count": null,
   "metadata": {},
   "outputs": [],
   "source": []
  }
 ],
 "metadata": {
  "kernelspec": {
   "display_name": "Python 3",
   "language": "python",
   "name": "python3"
  },
  "language_info": {
   "codemirror_mode": {
    "name": "ipython",
    "version": 3
   },
   "file_extension": ".py",
   "mimetype": "text/x-python",
   "name": "python",
   "nbconvert_exporter": "python",
   "pygments_lexer": "ipython3",
   "version": "3.7.4"
  }
 },
 "nbformat": 4,
 "nbformat_minor": 2
}
